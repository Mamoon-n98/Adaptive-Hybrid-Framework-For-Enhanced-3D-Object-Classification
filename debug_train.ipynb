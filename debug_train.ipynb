{
 "cells": [
  {
   "cell_type": "code",
   "execution_count": 1,
   "id": "1a95bf00-6908-47ad-b946-c32acdabe2ec",
   "metadata": {},
   "outputs": [
    {
     "ename": "ModuleNotFoundError",
     "evalue": "No module named 'configs.modelnet40_config'",
     "output_type": "error",
     "traceback": [
      "\u001b[31m---------------------------------------------------------------------------\u001b[39m",
      "\u001b[31mModuleNotFoundError\u001b[39m                       Traceback (most recent call last)",
      "\u001b[36mCell\u001b[39m\u001b[36m \u001b[39m\u001b[32mIn[1]\u001b[39m\u001b[32m, line 10\u001b[39m\n\u001b[32m      8\u001b[39m sys.path.insert(\u001b[32m0\u001b[39m, project_root)\n\u001b[32m      9\u001b[39m \u001b[38;5;28;01mfrom\u001b[39;00m\u001b[38;5;250m \u001b[39m\u001b[34;01mdatasets\u001b[39;00m\u001b[34;01m.\u001b[39;00m\u001b[34;01mmodelnet_dataset\u001b[39;00m\u001b[38;5;250m \u001b[39m\u001b[38;5;28;01mimport\u001b[39;00m ModelNetDataset\n\u001b[32m---> \u001b[39m\u001b[32m10\u001b[39m \u001b[38;5;28;01mfrom\u001b[39;00m\u001b[38;5;250m \u001b[39m\u001b[34;01mtraining\u001b[39;00m\u001b[34;01m.\u001b[39;00m\u001b[34;01mtrain\u001b[39;00m\u001b[38;5;250m \u001b[39m\u001b[38;5;28;01mimport\u001b[39;00m get_model, train_one_epoch\n\u001b[32m     11\u001b[39m \u001b[38;5;28;01mfrom\u001b[39;00m\u001b[38;5;250m \u001b[39m\u001b[34;01mconfigs\u001b[39;00m\u001b[34;01m.\u001b[39;00m\u001b[34;01mmodelnet40_config\u001b[39;00m\u001b[38;5;250m \u001b[39m\u001b[38;5;28;01mimport\u001b[39;00m dataset, model \u001b[38;5;28;01mas\u001b[39;00m model_config\n\u001b[32m     12\u001b[39m \u001b[38;5;28;01mfrom\u001b[39;00m\u001b[38;5;250m \u001b[39m\u001b[34;01mcore\u001b[39;00m\u001b[34;01m.\u001b[39;00m\u001b[34;01mdynamic_voxelizer\u001b[39;00m\u001b[38;5;250m \u001b[39m\u001b[38;5;28;01mimport\u001b[39;00m DynamicVoxelizer\n",
      "\u001b[36mFile \u001b[39m\u001b[32m~/autodl-tmp/Adaptive-Hybrid-Framework-For-Enhanced-3D-Object-Classification/training/train.py:7\u001b[39m\n\u001b[32m      5\u001b[39m \u001b[38;5;28;01mimport\u001b[39;00m\u001b[38;5;250m \u001b[39m\u001b[34;01mtime\u001b[39;00m\n\u001b[32m      6\u001b[39m \u001b[38;5;28;01mfrom\u001b[39;00m\u001b[38;5;250m \u001b[39m\u001b[34;01mdatasets\u001b[39;00m\u001b[34;01m.\u001b[39;00m\u001b[34;01mmodelnet_dataset\u001b[39;00m\u001b[38;5;250m \u001b[39m\u001b[38;5;28;01mimport\u001b[39;00m ModelNetDataset\n\u001b[32m----> \u001b[39m\u001b[32m7\u001b[39m \u001b[38;5;28;01mfrom\u001b[39;00m\u001b[38;5;250m \u001b[39m\u001b[34;01mconfigs\u001b[39;00m\u001b[34;01m.\u001b[39;00m\u001b[34;01mmodelnet40_config\u001b[39;00m\u001b[38;5;250m \u001b[39m\u001b[38;5;28;01mimport\u001b[39;00m dataset, model \u001b[38;5;28;01mas\u001b[39;00m model_config\n\u001b[32m      8\u001b[39m \u001b[38;5;28;01mfrom\u001b[39;00m\u001b[38;5;250m \u001b[39m\u001b[34;01mcore\u001b[39;00m\u001b[34;01m.\u001b[39;00m\u001b[34;01mdynamic_voxelizer\u001b[39;00m\u001b[38;5;250m \u001b[39m\u001b[38;5;28;01mimport\u001b[39;00m DynamicVoxelizer\n\u001b[32m      9\u001b[39m \u001b[38;5;28;01mfrom\u001b[39;00m\u001b[38;5;250m \u001b[39m\u001b[34;01mmodels\u001b[39;00m\u001b[34;01m.\u001b[39;00m\u001b[34;01mpointnet\u001b[39;00m\u001b[38;5;250m \u001b[39m\u001b[38;5;28;01mimport\u001b[39;00m PointNet\n",
      "\u001b[31mModuleNotFoundError\u001b[39m: No module named 'configs.modelnet40_config'"
     ]
    }
   ],
   "source": [
    "# Process starts: Debug training setup.\n",
    "import sys\n",
    "import os\n",
    "import torch\n",
    "from torch.utils.data import DataLoader\n",
    "# Add project root to path.\n",
    "project_root = '/root/autodl-tmp/Adaptive-Hybrid-Framework-For-Enhanced-3D-Object-Classification'\n",
    "sys.path.insert(0, project_root)\n",
    "from datasets.modelnet_dataset import ModelNetDataset\n",
    "from training.train import get_model, train_one_epoch\n",
    "from configs.modelnet40_config import dataset, model as model_config\n",
    "from core.dynamic_voxelizer import DynamicVoxelizer\n",
    "\n",
    "try:\n",
    "    # Setup device.\n",
    "    device = torch.device('cuda' if torch.cuda.is_available() else 'cpu')\n",
    "    print(f\"Using device: {device}\")\n",
    "\n",
    "    # Load dataset.\n",
    "    train_dataset = ModelNetDataset(root=dataset['root'], train=True, num_points=dataset['num_points'])\n",
    "    train_loader = DataLoader(train_dataset, batch_size=dataset['batch_size'], shuffle=True)\n",
    "    print(f\"Loaded {len(train_dataset)} training samples.\")\n",
    "\n",
    "    # Load model and voxelizer.\n",
    "    model = get_model(model_config).to(device)\n",
    "    voxelizer = DynamicVoxelizer(voxel_size=0.05, max_voxels=100000).to(device)\n",
    "    print(\"Model and voxelizer initialized successfully.\")\n",
    "\n",
    "    # Test one batch.\n",
    "    points, labels = next(iter(train_loader))\n",
    "    points, labels = points.to(device), labels.to(device)\n",
    "    print(f\"Batch shape: {points.shape}, Labels shape: {labels.shape}\")  # Expected: [32, 2048, 3], [32]\n",
    "    \n",
    "    # Test voxelizer.\n",
    "    voxels = voxelizer(points)\n",
    "    print(f\"Voxelized tensor: {voxels.features.shape}, {voxels.indices.shape}\")\n",
    "\n",
    "    # Test forward pass.\n",
    "    optimizer = torch.optim.Adam(model.parameters(), lr=0.001)\n",
    "    loss, acc = train_one_epoch(model, train_loader, optimizer, device, epoch=1)\n",
    "    print(f\"Test forward pass loss: {loss:.4f}, accuracy: {acc:.4f}\")\n",
    "\n",
    "except Exception as e:\n",
    "    print(f\"Error in training setup: {e}\")\n",
    "    raise\n",
    "# Process ends: Debug complete."
   ]
  },
  {
   "cell_type": "code",
   "execution_count": null,
   "id": "0a56b6d6-eadd-4287-8366-09bcdb63871a",
   "metadata": {},
   "outputs": [],
   "source": []
  }
 ],
 "metadata": {
  "kernelspec": {
   "display_name": "Python 3 (ipykernel)",
   "language": "python",
   "name": "python3"
  },
  "language_info": {
   "codemirror_mode": {
    "name": "ipython",
    "version": 3
   },
   "file_extension": ".py",
   "mimetype": "text/x-python",
   "name": "python",
   "nbconvert_exporter": "python",
   "pygments_lexer": "ipython3",
   "version": "3.12.3"
  }
 },
 "nbformat": 4,
 "nbformat_minor": 5
}
