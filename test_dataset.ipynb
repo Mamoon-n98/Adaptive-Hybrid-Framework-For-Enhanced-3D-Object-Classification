{
 "cells": [
  {
   "cell_type": "code",
   "execution_count": 1,
   "id": "4930e2fd-cec0-4433-aa7b-4f94bc5248a6",
   "metadata": {},
   "outputs": [
    {
     "name": "stdout",
     "output_type": "stream",
     "text": [
      "Start...\n",
      "Found 9843 training samples in 6.61 seconds.\n",
      "Train sample shape: torch.Size([2048, 3]), Label: 0\n",
      "Train batch shape: torch.Size([32, 2048, 3]), Labels shape: torch.Size([32])\n",
      "Found 2468 test samples in 2.80 seconds.\n",
      "Test sample shape: torch.Size([2048, 3]), Label: 0\n",
      "Test batch shape: torch.Size([32, 2048, 3]), Labels shape: torch.Size([32])\n",
      "End...\n"
     ]
    }
   ],
   "source": [
    "# Process starts: Test dataset loading.\n",
    "import sys\n",
    "import os\n",
    "import time\n",
    "# Add project root to path (adjust if notebook is not in project root).\n",
    "project_root = os.path.abspath(os.path.join(os.getcwd(), '..'))  # Assumes notebook in project or subdir.\n",
    "sys.path.insert(0, project_root)\n",
    "from datasets.modelnet_dataset import ModelNetDataset  # Import dataset.\n",
    "from torch.utils.data import DataLoader\n",
    "# Path to your ModelNet40 dataset.\n",
    "dataset_root = '/root/autodl-tmp/Adaptive-Hybrid-Framework-For-Enhanced-3D-Object-Classification/modelnet40/ModelNet40'\n",
    "try:\n",
    "    print(f\"Start...\")\n",
    "    # Test train split.\n",
    "    start_time = time.time()\n",
    "    train_ds = ModelNetDataset(root=dataset_root, train=True, num_points=2048)\n",
    "    print(f\"Found {len(train_ds)} training samples in {time.time() - start_time:.2f} seconds.\")\n",
    "    sample_points, sample_label = train_ds[0]\n",
    "    print(f\"Train sample shape: {sample_points.shape}, Label: {sample_label}\")  # Expected: torch.Size([2048, 3]), tensor(X).\n",
    "    train_loader = DataLoader(train_ds, batch_size=32, shuffle=True)\n",
    "    points, labels = next(iter(train_loader))\n",
    "    print(f\"Train batch shape: {points.shape}, Labels shape: {labels.shape}\")  # Expected: torch.Size([32, 2048, 3]), torch.Size([32]).\n",
    "    \n",
    "    # Test test split.\n",
    "    start_time = time.time()\n",
    "    test_ds = ModelNetDataset(root=dataset_root, train=False, num_points=2048)\n",
    "    print(f\"Found {len(test_ds)} test samples in {time.time() - start_time:.2f} seconds.\")\n",
    "    sample_points, sample_label = test_ds[0]\n",
    "    print(f\"Test sample shape: {sample_points.shape}, Label: {sample_label}\")  # Expected: torch.Size([2048, 3]), tensor(X).\n",
    "    test_loader = DataLoader(test_ds, batch_size=32, shuffle=False)\n",
    "    points, labels = next(iter(test_loader))\n",
    "    print(f\"Test batch shape: {points.shape}, Labels shape: {labels.shape}\")  # Expected: torch.Size([32, 2048, 3]), torch.Size([32]).\n",
    "    print(f\"End...\")\n",
    "except Exception as e:\n",
    "    print(f\"Error loading dataset: {e}\")\n",
    "    print(f\"End...\")\n",
    "# Process ends: Test complete."
   ]
  },
  {
   "cell_type": "code",
   "execution_count": null,
   "id": "cb2b0261-fbf3-42f7-a0aa-0eca38284fc3",
   "metadata": {},
   "outputs": [],
   "source": []
  }
 ],
 "metadata": {
  "kernelspec": {
   "display_name": "Python 3 (ipykernel)",
   "language": "python",
   "name": "python3"
  },
  "language_info": {
   "codemirror_mode": {
    "name": "ipython",
    "version": 3
   },
   "file_extension": ".py",
   "mimetype": "text/x-python",
   "name": "python",
   "nbconvert_exporter": "python",
   "pygments_lexer": "ipython3",
   "version": "3.12.3"
  }
 },
 "nbformat": 4,
 "nbformat_minor": 5
}
